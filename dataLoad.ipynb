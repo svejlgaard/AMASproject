{
 "cells": [
  {
   "cell_type": "code",
   "execution_count": 9,
   "id": "infrared-smoke",
   "metadata": {},
   "outputs": [],
   "source": [
    "import pandas as pd"
   ]
  },
  {
   "cell_type": "code",
   "execution_count": 10,
   "id": "another-deputy",
   "metadata": {},
   "outputs": [],
   "source": [
    "class PulsarData:\n",
    "    '''A function to load the pulsar data.\n",
    "    Return: pandas dataframe.'''\n",
    "    def __init__(self, filename):\n",
    "        self.filename=filename\n",
    "        self.data = pd.read_csv(f'{self.filename}.csv', header=None, names=['Mean of the integrated profile.',\n",
    "\" Standard deviation of the integrated profile.\",\n",
    "'Excess kurtosis of the integrated profile.',\n",
    "'Skewness of the integrated profile.',\n",
    "'Mean of the DM-SNR curve.',\n",
    "'Standard deviation of the DM-SNR curve.',\n",
    "'Excess kurtosis of the DM-SNR curve.',\n",
    "'Skewness of the DM-SNR curve.',\n",
    "'Class'])\n",
    "        return self.data\n",
    "\n"
   ]
  }
 ],
 "metadata": {
  "kernelspec": {
   "display_name": "amas",
   "language": "python",
   "name": "amas"
  },
  "language_info": {
   "codemirror_mode": {
    "name": "ipython",
    "version": 3
   },
   "file_extension": ".py",
   "mimetype": "text/x-python",
   "name": "python",
   "nbconvert_exporter": "python",
   "pygments_lexer": "ipython3",
   "version": "3.8.5"
  }
 },
 "nbformat": 4,
 "nbformat_minor": 5
}
