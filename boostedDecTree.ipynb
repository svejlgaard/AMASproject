{
 "cells": [
  {
   "cell_type": "code",
   "execution_count": 1,
   "id": "unable-customs",
   "metadata": {},
   "outputs": [],
   "source": [
    "import numpy as np\n",
    "import pandas as pd\n",
    "import matplotlib.pyplot as plt\n",
    "from dataLoad import PulsarData\n",
    "from sklearn.ensemble import GradientBoostingClassifier\n",
    "from sklearn.model_selection import train_test_split\n",
    "from sklearn import metrics\n",
    "from bayes_opt import BayesianOptimization\n",
    "from sklearn.model_selection import cross_val_score\n",
    "import shap"
   ]
  },
  {
   "cell_type": "markdown",
   "id": "tracked-draft",
   "metadata": {},
   "source": [
    "## Classification of pulsar data using the sklearn boosted decision tree method\n",
    "Read in the pulsar data from the dataLoad.py script"
   ]
  },
  {
   "cell_type": "code",
   "execution_count": 69,
   "id": "portuguese-death",
   "metadata": {},
   "outputs": [],
   "source": [
    "features_data = PulsarData('HTRU_2').features\n",
    "targets_data = PulsarData('HTRU_2').targets"
   ]
  },
  {
   "cell_type": "markdown",
   "id": "innocent-pursuit",
   "metadata": {},
   "source": [
    "Shuffle and split the data into training and test groups with 3:1 split"
   ]
  },
  {
   "cell_type": "code",
   "execution_count": 70,
   "id": "alternative-messenger",
   "metadata": {},
   "outputs": [],
   "source": [
    "train_features_data, test_features_data, train_targets_data, test_targets_data  =  train_test_split( features_data, \n",
    "                                                        targets_data, test_size=0.25, random_state=42)"
   ]
  },
  {
   "cell_type": "markdown",
   "id": "lined-politics",
   "metadata": {},
   "source": [
    "Bayesian optimisation and cross validation of hyperparameters using Simone's Troels example code."
   ]
  },
  {
   "cell_type": "code",
   "execution_count": 71,
   "id": "forward-amplifier",
   "metadata": {},
   "outputs": [],
   "source": [
    "def GBC_CrossValidation(n_estimators, learning_rate, max_depth, data, targets):\n",
    "    \"\"\"Decision Tree cross validation.\n",
    "       Fits a Decision Tree with the given paramaters to the target \n",
    "       given data, calculated a CV accuracy score and returns the mean.\n",
    "       The goal is to find combinations\n",
    "       that maximize the accuracy\n",
    "    \"\"\"\n",
    "    \n",
    "    estimator = GradientBoostingClassifier(n_estimators=n_estimators, learning_rate=learning_rate, \n",
    "                                 max_depth=max_depth, random_state=0)\n",
    "    \n",
    "    cval = cross_val_score(estimator, data, targets, scoring='accuracy', cv=5)\n",
    "    \n",
    "    return cval.mean()"
   ]
  },
  {
   "cell_type": "code",
   "execution_count": 72,
   "id": "friendly-kidney",
   "metadata": {},
   "outputs": [],
   "source": [
    "def optimize_GBC(data, targets, pars, n_iter=5):\n",
    "    \"\"\"Apply Bayesian Optimization to Decision Tree parameters.\"\"\"\n",
    "    \n",
    "    def crossval_wrapper(n_estimators, learning_rate, max_depth):\n",
    "        \"\"\"Wrapper of Decision Tree cross validation. \n",
    "           max_depth and n_estimators\n",
    "           are cast to integer before we pass them along.\n",
    "        \"\"\"\n",
    "        return GBC_CrossValidation(n_estimators=int(n_estimators), \n",
    "                                            learning_rate=learning_rate, \n",
    "                                            max_depth=int(max_depth),\n",
    "                                            data=data, \n",
    "                                            targets=targets)\n",
    "\n",
    "    optimizer = BayesianOptimization(f=crossval_wrapper, \n",
    "                                     pbounds=pars, \n",
    "                                     random_state=42, \n",
    "                                     verbose=2)\n",
    "    optimizer.maximize(init_points=4, n_iter=n_iter)\n",
    "\n",
    "    return optimizer"
   ]
  },
  {
   "cell_type": "code",
   "execution_count": 73,
   "id": "mysterious-armenia",
   "metadata": {},
   "outputs": [
    {
     "name": "stdout",
     "output_type": "stream",
     "text": [
      "|   iter    |  target   | learni... | max_depth | n_esti... |\n",
      "-------------------------------------------------------------\n",
      "| \u001b[0m 1       \u001b[0m | \u001b[0m 0.9754  \u001b[0m | \u001b[0m 0.3746  \u001b[0m | \u001b[0m 4.803   \u001b[0m | \u001b[0m 379.4   \u001b[0m |\n",
      "| \u001b[95m 2       \u001b[0m | \u001b[95m 0.98    \u001b[0m | \u001b[95m 0.5987  \u001b[0m | \u001b[95m 1.624   \u001b[0m | \u001b[95m 120.2   \u001b[0m |\n",
      "| \u001b[0m 3       \u001b[0m | \u001b[0m 0.9788  \u001b[0m | \u001b[0m 0.05818 \u001b[0m | \u001b[0m 4.465   \u001b[0m | \u001b[0m 320.5   \u001b[0m |\n",
      "| \u001b[0m 4       \u001b[0m | \u001b[0m 0.9794  \u001b[0m | \u001b[0m 0.7081  \u001b[0m | \u001b[0m 1.082   \u001b[0m | \u001b[0m 486.5   \u001b[0m |\n",
      "| \u001b[0m 5       \u001b[0m | \u001b[0m 0.978   \u001b[0m | \u001b[0m 0.045   \u001b[0m | \u001b[0m 1.427   \u001b[0m | \u001b[0m 50.11   \u001b[0m |\n",
      "| \u001b[0m 6       \u001b[0m | \u001b[0m 0.9785  \u001b[0m | \u001b[0m 0.2694  \u001b[0m | \u001b[0m 1.39    \u001b[0m | \u001b[0m 50.08   \u001b[0m |\n",
      "| \u001b[0m 7       \u001b[0m | \u001b[0m 0.9709  \u001b[0m | \u001b[0m 0.697   \u001b[0m | \u001b[0m 3.884   \u001b[0m | \u001b[0m 50.08   \u001b[0m |\n",
      "| \u001b[0m 8       \u001b[0m | \u001b[0m 0.9799  \u001b[0m | \u001b[0m 0.3956  \u001b[0m | \u001b[0m 1.008   \u001b[0m | \u001b[0m 247.2   \u001b[0m |\n",
      "| \u001b[0m 9       \u001b[0m | \u001b[0m 0.9799  \u001b[0m | \u001b[0m 0.6653  \u001b[0m | \u001b[0m 1.004   \u001b[0m | \u001b[0m 343.3   \u001b[0m |\n",
      "=============================================================\n",
      "{'target': 0.979959536754115, 'params': {'learning_rate': 0.5986986183486169, 'max_depth': 1.624074561769746, 'n_estimators': 120.1975341512912}}\n"
     ]
    }
   ],
   "source": [
    "parameters_BayesianOptimization = {\"learning_rate\": (0.0001, 1), \n",
    "                                   \"max_depth\": (1, 5),\n",
    "                                   \"n_estimators\": (50,500)\n",
    "                                  }\n",
    "\n",
    "BayesianOptimization = optimize_GBC(train_features_data, \n",
    "                                             train_targets_data, \n",
    "                                             parameters_BayesianOptimization, \n",
    "                                             n_iter=5)\n",
    "print(BayesianOptimization.max)"
   ]
  },
  {
   "cell_type": "markdown",
   "id": "changed-mixture",
   "metadata": {},
   "source": [
    "Cross-validation on result:"
   ]
  },
  {
   "cell_type": "code",
   "execution_count": 74,
   "id": "altered-strengthening",
   "metadata": {},
   "outputs": [
    {
     "name": "stdout",
     "output_type": "stream",
     "text": [
      "0.8757 accuracy with a standard deviation of 0.0146\n"
     ]
    }
   ],
   "source": [
    "gbc = GradientBoostingClassifier(n_estimators=int(BayesianOptimization.max['params']['n_estimators']), \n",
    "                                 learning_rate=BayesianOptimization.max['params']['learning_rate'], \n",
    "                                 max_depth=BayesianOptimization.max['params']['max_depth'], \n",
    "                                 random_state=0)\n",
    "scores = cross_val_score(gbc, features_data, targets_data, cv=5, scoring='f1') \n",
    "print(f\"{scores.mean():.4f} accuracy with a standard deviation of {scores.std():.4f}\")"
   ]
  },
  {
   "cell_type": "markdown",
   "id": "narrow-behalf",
   "metadata": {},
   "source": [
    "Comparing with baseline (no longer needed: https://stackoverflow.com/questions/60090544/in-a-classification-problem-why-f1-score-is-more-suitable-than-accuracy-when-th)"
   ]
  },
  {
   "cell_type": "code",
   "execution_count": 75,
   "id": "equal-pickup",
   "metadata": {},
   "outputs": [],
   "source": [
    "#print(f\"{scores.mean()-PulsarData('HTRU_2').baseline:.4f} improvement with a standard deviation of {scores.std():.4f}\")"
   ]
  },
  {
   "cell_type": "markdown",
   "id": "wrapped-novelty",
   "metadata": {},
   "source": [
    "Fit a gradient boosting classifier with hyperparameters optimised by Gaussian Process Optimisation above"
   ]
  },
  {
   "cell_type": "code",
   "execution_count": 76,
   "id": "aboriginal-newman",
   "metadata": {},
   "outputs": [],
   "source": [
    "clf = GradientBoostingClassifier(n_estimators=int(BayesianOptimization.max['params']['n_estimators']), \n",
    "                                 learning_rate=BayesianOptimization.max['params']['learning_rate'], \n",
    "                                 max_depth=BayesianOptimization.max['params']['max_depth'], \n",
    "                                 random_state=0).fit(train_features_data, train_targets_data)"
   ]
  },
  {
   "cell_type": "markdown",
   "id": "confidential-peripheral",
   "metadata": {},
   "source": [
    "Compare the classified data to the test set - returns percentage match"
   ]
  },
  {
   "cell_type": "code",
   "execution_count": 77,
   "id": "double-madison",
   "metadata": {},
   "outputs": [
    {
     "data": {
      "text/plain": [
       "0.9789944134078212"
      ]
     },
     "execution_count": 77,
     "metadata": {},
     "output_type": "execute_result"
    }
   ],
   "source": [
    "clf.score(test_features_data, test_targets_data)"
   ]
  },
  {
   "cell_type": "markdown",
   "id": "sexual-laser",
   "metadata": {},
   "source": [
    "SHAP-values:"
   ]
  },
  {
   "cell_type": "code",
   "execution_count": 78,
   "id": "original-preservation",
   "metadata": {},
   "outputs": [
    {
     "data": {
      "image/png": "[encoded data removed]",
      "text/plain": [
       "<Figure size 576x338.4 with 1 Axes>"
      ]
     },
     "metadata": {
      "needs_background": "light"
     },
     "output_type": "display_data"
    }
   ],
   "source": [
    "shap_values = shap.TreeExplainer(clf).shap_values(train_features_data)\n",
    "shap.summary_plot(shap_values, train_features_data, plot_type=\"bar\")"
   ]
  },
  {
   "cell_type": "markdown",
   "id": "median-thriller",
   "metadata": {},
   "source": [
    "Feature Ranking using sklearn .feature_importances_ :   \n",
    "https://as595.github.io/classification/"
   ]
  },
  {
   "cell_type": "code",
   "execution_count": 93,
   "id": "protected-trustee",
   "metadata": {},
   "outputs": [
    {
     "data": {
      "text/plain": [
       "array(['Mean of the integrated profile.',\n",
       "       ' Standard deviation of the integrated profile.',\n",
       "       'Excess kurtosis of the integrated profile.',\n",
       "       'Skewness of the integrated profile.', 'Mean of the DM-SNR curve.',\n",
       "       'Standard deviation of the DM-SNR curve.',\n",
       "       'Excess kurtosis of the DM-SNR curve.',\n",
       "       'Skewness of the DM-SNR curve.'], dtype=object)"
      ]
     },
     "execution_count": 93,
     "metadata": {},
     "output_type": "execute_result"
    }
   ],
   "source": [
    "importances = clf.feature_importances_\n",
    "indices = np.argsort(importances)\n",
    "feature_names = features_data.columns.values\n",
    "feature_names"
   ]
  },
  {
   "cell_type": "code",
   "execution_count": 94,
   "id": "related-savannah",
   "metadata": {},
   "outputs": [
    {
     "data": {
      "image/png": "[encoded data removed]",
      "text/plain": [
       "<Figure size 432x288 with 1 Axes>"
      ]
     },
     "metadata": {
      "needs_background": "light"
     },
     "output_type": "display_data"
    }
   ],
   "source": [
    "plt.figure(1)\n",
    "plt.title('Feature Importances')\n",
    "plt.barh(range(len(indices)), importances[indices], color='b', align='center')\n",
    "plt.yticks(range(len(indices)), feature_names[indices])\n",
    "plt.xlabel('Relative Importance')\n",
    "\n",
    "plt.show()"
   ]
  },
  {
   "cell_type": "code",
   "execution_count": null,
   "id": "urban-adelaide",
   "metadata": {},
   "outputs": [],
   "source": []
  }
 ],
 "metadata": {
  "kernelspec": {
   "name": "python3",
   "display_name": "Python 3.7.3 64-bit ('base': conda)",
   "metadata": {
    "interpreter": {
     "hash": "d15befdc11df375b4634f1adc5c62eddc2db8e0dc0cec2fa4dd6447847bd678d"
    }
   }
  },
  "language_info": {
   "codemirror_mode": {
    "name": "ipython",
    "version": 3
   },
   "file_extension": ".py",
   "mimetype": "text/x-python",
   "name": "python",
   "nbconvert_exporter": "python",
   "pygments_lexer": "ipython3",
   "version": "3.7.3-final"
  }
 },
 "nbformat": 4,
 "nbformat_minor": 5
}